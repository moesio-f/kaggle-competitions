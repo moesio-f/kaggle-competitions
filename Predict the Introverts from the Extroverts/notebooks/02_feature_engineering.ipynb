{
 "cells": [
  {
   "cell_type": "markdown",
   "id": "9f372f84-7ffd-4e54-852e-4f175960cb72",
   "metadata": {},
   "source": [
    "# Feature Engineering\n",
    "\n",
    "Creating the training and test sets for protoype experimentation."
   ]
  },
  {
   "cell_type": "code",
   "execution_count": 1,
   "id": "16377523-02cf-412d-b9cb-dd1516918ec9",
   "metadata": {},
   "outputs": [],
   "source": [
    "import json\n",
    "from pathlib import Path\n",
    "\n",
    "import pandas as pd\n",
    "from plotly.subplots import make_subplots\n",
    "\n",
    "# Constants\n",
    "TRAIN_FRAC = 0.8\n",
    "SEED = 42\n",
    "OUT_DIR = Path(\"../data/prototype\")\n",
    "OUT_DIR.mkdir(exist_ok=True)\n",
    "\n",
    "# Data load\n",
    "df = pd.read_csv(\n",
    "    \"../data/competition/train.csv\",\n",
    "    dtype={\n",
    "        \"id\": pd.Int16Dtype(),\n",
    "        \"Time_spent_Alone\": pd.Int8Dtype(),\n",
    "        \"Social_event_attendance\": pd.Int8Dtype(),\n",
    "        \"Going_outside\": pd.Int8Dtype(),\n",
    "        \"Friends_circle_size\": pd.Int8Dtype(),\n",
    "        \"Post_frequency\": pd.Int8Dtype(),\n",
    "    },\n",
    ")"
   ]
  },
  {
   "cell_type": "markdown",
   "id": "6eed3a1a-c2dc-44de-9ffd-dd93473440eb",
   "metadata": {
    "jp-MarkdownHeadingCollapsed": true
   },
   "source": [
    "## Drop Redundant Features\n",
    "\n",
    "From the EDA, some features were found to be redundant or highly correlated to one another. "
   ]
  },
  {
   "cell_type": "code",
   "execution_count": 2,
   "id": "ee805636-64cb-463a-855f-87c7203537c3",
   "metadata": {},
   "outputs": [],
   "source": [
    "df = df.drop(columns=[\"Drained_after_socializing\", \"Stage_fear\"])"
   ]
  },
  {
   "cell_type": "markdown",
   "id": "713a1f7a-5742-4f05-bfe3-7f3386f8680d",
   "metadata": {
    "jp-MarkdownHeadingCollapsed": true
   },
   "source": [
    "## Categorical to Numerical\n",
    "\n",
    "Convert categorical values to numeric. This step defines the mappers used for each column."
   ]
  },
  {
   "cell_type": "code",
   "execution_count": 3,
   "id": "55aa119d-2e8a-4958-9944-c99c5d598682",
   "metadata": {},
   "outputs": [],
   "source": [
    "mappers = {\n",
    "    \"Personality\": {\"Introvert\": 0, \"Extrovert\": 1},\n",
    "}\n",
    "\n",
    "for col in mappers:\n",
    "    df[col] = df[col].map(mappers[col]).astype(pd.Int8Dtype())"
   ]
  },
  {
   "cell_type": "code",
   "execution_count": 4,
   "id": "d06c9328-ec4d-437c-a7fa-2adc4e10d830",
   "metadata": {},
   "outputs": [
    {
     "data": {
      "text/plain": [
       "id                         Int16\n",
       "Time_spent_Alone            Int8\n",
       "Social_event_attendance     Int8\n",
       "Going_outside               Int8\n",
       "Friends_circle_size         Int8\n",
       "Post_frequency              Int8\n",
       "Personality                 Int8\n",
       "dtype: object"
      ]
     },
     "execution_count": 4,
     "metadata": {},
     "output_type": "execute_result"
    }
   ],
   "source": [
    "df.dtypes"
   ]
  },
  {
   "cell_type": "markdown",
   "id": "5dcbf1af-c861-43a8-b021-e2f0d5bd9eb3",
   "metadata": {
    "jp-MarkdownHeadingCollapsed": true
   },
   "source": [
    "## Min-Max Normalization\n",
    "\n",
    "All features have a well-known interval. Therefore, a simple normalization technique such as min-max can be applied both for training and inference:\n",
    "\n",
    "- `Time_spent_Alone`: Hours spent alone daily (0–11).\n",
    "- `Social_event_attendance`: Frequency of social events (0–10).\n",
    "- `Going_outside`: Frequency of going outside (0–7).\n",
    "- `Friends_circle_size`: Number of close friends (0–15).\n",
    "- `Post_frequency`: Social media post frequency (0–10)."
   ]
  },
  {
   "cell_type": "code",
   "execution_count": 5,
   "id": "42c09be8-b322-4c36-b4e2-7d694e44be0c",
   "metadata": {},
   "outputs": [],
   "source": [
    "df[\"Time_spent_Alone\"] = (df[\"Time_spent_Alone\"] / 11).astype(\"float32\")\n",
    "df[\"Social_event_attendance\"] = (df[\"Social_event_attendance\"] / 11).astype(\"float32\")\n",
    "df[\"Going_outside\"] = (df[\"Going_outside\"] / 7).astype(\"float32\")\n",
    "df[\"Friends_circle_size\"] = (df[\"Friends_circle_size\"] / 15).astype(\"float32\")\n",
    "df[\"Post_frequency\"] = (df[\"Post_frequency\"] / 10).astype(\"float32\")"
   ]
  },
  {
   "cell_type": "code",
   "execution_count": 6,
   "id": "61a02134-ad93-469a-a735-a1eafaf28a67",
   "metadata": {},
   "outputs": [
    {
     "data": {
      "text/plain": [
       "id                           Int16\n",
       "Time_spent_Alone           float32\n",
       "Social_event_attendance    float32\n",
       "Going_outside              float32\n",
       "Friends_circle_size        float32\n",
       "Post_frequency             float32\n",
       "Personality                   Int8\n",
       "dtype: object"
      ]
     },
     "execution_count": 6,
     "metadata": {},
     "output_type": "execute_result"
    }
   ],
   "source": [
    "df.dtypes"
   ]
  },
  {
   "cell_type": "markdown",
   "id": "843dad2c-1eb4-450a-88e9-62353ecdc2b0",
   "metadata": {
    "jp-MarkdownHeadingCollapsed": true
   },
   "source": [
    "## Train and Validation sets\n",
    "\n",
    "For the prototyping phase, we should have fixed datasets for training and another one for validation. Data should not leak between those datasets, from here onwards they should be treated independently."
   ]
  },
  {
   "cell_type": "code",
   "execution_count": 7,
   "id": "3c2ffb6b-0f7d-4a4c-b3cc-86977bf68d0a",
   "metadata": {},
   "outputs": [],
   "source": [
    "train = df.sample(frac=TRAIN_FRAC, random_state=SEED)\n",
    "validation = df[~df.id.isin(train.id)]"
   ]
  },
  {
   "cell_type": "code",
   "execution_count": 8,
   "id": "beaabf27-99bb-4cf6-a9cf-235546c8e618",
   "metadata": {},
   "outputs": [
    {
     "data": {
      "text/plain": [
       "<Axes: >"
      ]
     },
     "execution_count": 8,
     "metadata": {},
     "output_type": "execute_result"
    },
    {
     "data": {
      "image/png": "[encoded data removed]",
      "text/plain": [
       "<Figure size 640x480 with 1 Axes>"
      ]
     },
     "metadata": {},
     "output_type": "display_data"
    }
   ],
   "source": [
    "train[\"Personality\"].hist()"
   ]
  },
  {
   "cell_type": "code",
   "execution_count": 9,
   "id": "34e44145-4722-4118-9136-95e1b87e5d22",
   "metadata": {},
   "outputs": [
    {
     "data": {
      "text/plain": [
       "<Axes: >"
      ]
     },
     "execution_count": 9,
     "metadata": {},
     "output_type": "execute_result"
    },
    {
     "data": {
      "image/png": "[encoded data removed]",
      "text/plain": [
       "<Figure size 640x480 with 1 Axes>"
      ]
     },
     "metadata": {},
     "output_type": "display_data"
    }
   ],
   "source": [
    "validation[\"Personality\"].hist()"
   ]
  },
  {
   "cell_type": "markdown",
   "id": "c1983dba-ea2b-4bfe-b5f9-fbb4c0b410e0",
   "metadata": {
    "jp-MarkdownHeadingCollapsed": true
   },
   "source": [
    "## Impute Missing Values on Train\n",
    "\n",
    "Use a simple mean-strategy to impute missing values. We use the sample mean as a point estimator to the population mean. The validation set keeps NaN values to allow models to select a strategy to deal with it (i.e., either impute using the same mean as training or do something else)."
   ]
  },
  {
   "cell_type": "code",
   "execution_count": 10,
   "id": "ebf549c5-917f-4ed9-9ebc-ec8502aaacf2",
   "metadata": {},
   "outputs": [],
   "source": [
    "train_statistics = train.describe()"
   ]
  },
  {
   "cell_type": "code",
   "execution_count": 11,
   "id": "201e2301-3720-40fe-bffd-59785b7bdfac",
   "metadata": {},
   "outputs": [],
   "source": [
    "for col in set(train.columns) - set([\"id\", \"Personality\"]):\n",
    "    fill_value = train_statistics[col][\"mean\"]\n",
    "    train[col] = train[col].fillna(value=fill_value)"
   ]
  },
  {
   "cell_type": "code",
   "execution_count": 12,
   "id": "d3730552-acae-495c-80da-36754210158b",
   "metadata": {},
   "outputs": [],
   "source": [
    "assert not train.isna().any().any()"
   ]
  },
  {
   "cell_type": "markdown",
   "id": "2c2da4a6-f34c-4786-a787-4f20b1d6e615",
   "metadata": {},
   "source": [
    "## Save Data\n",
    "\n",
    "Save datasets and statistics."
   ]
  },
  {
   "cell_type": "code",
   "execution_count": 13,
   "id": "7d22c28e-11f7-4e82-9348-cbf33d3dffed",
   "metadata": {},
   "outputs": [],
   "source": [
    "with OUT_DIR.joinpath(\"mapper.json\").open(\"w+\") as f:\n",
    "    json.dump(mappers, f, indent=2, ensure_ascii=False)"
   ]
  },
  {
   "cell_type": "code",
   "execution_count": 14,
   "id": "f7433d78-ea7e-4ff1-8176-148ad6a3cf0f",
   "metadata": {},
   "outputs": [],
   "source": [
    "for fname, df in zip(\n",
    "    [\"train\", \"validation\", \"train_statistics\"], [train, validation, train_statistics]\n",
    "):\n",
    "    df.to_parquet(\n",
    "        OUT_DIR.joinpath(f\"{fname}.parquet\"), index=fname == \"train_statistics\"\n",
    "    )"
   ]
  }
 ],
 "metadata": {
  "kernelspec": {
   "display_name": "Python 3 (ipykernel)",
   "language": "python",
   "name": "python3"
  },
  "language_info": {
   "codemirror_mode": {
    "name": "ipython",
    "version": 3
   },
   "file_extension": ".py",
   "mimetype": "text/x-python",
   "name": "python",
   "nbconvert_exporter": "python",
   "pygments_lexer": "ipython3",
   "version": "3.10.18"
  }
 },
 "nbformat": 4,
 "nbformat_minor": 5
}
